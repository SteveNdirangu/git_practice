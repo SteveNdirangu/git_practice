{
  "nbformat": 4,
  "nbformat_minor": 0,
  "metadata": {
    "colab": {
      "provenance": []
    },
    "kernelspec": {
      "name": "python3",
      "display_name": "Python 3"
    },
    "language_info": {
      "name": "python"
    }
  },
  "cells": [
    {
      "cell_type": "code",
      "execution_count": 1,
      "metadata": {
        "id": "Xdj_87Udn5bp"
      },
      "outputs": [],
      "source": [
        "import random"
      ]
    },
    {
      "cell_type": "code",
      "source": [
        "names=[]\n",
        "\n",
        "for i in range(1,51):\n",
        "  names.append(\"Student_\"+str(i))\n",
        "print (names)"
      ],
      "metadata": {
        "colab": {
          "base_uri": "https://localhost:8080/"
        },
        "id": "TyTZTbx0pzKT",
        "outputId": "7442f8a0-124d-46d3-e4a0-6ec68a0ac76e"
      },
      "execution_count": 3,
      "outputs": [
        {
          "output_type": "stream",
          "name": "stdout",
          "text": [
            "['Student_1', 'Student_2', 'Student_3', 'Student_4', 'Student_5', 'Student_6', 'Student_7', 'Student_8', 'Student_9', 'Student_10', 'Student_11', 'Student_12', 'Student_13', 'Student_14', 'Student_15', 'Student_16', 'Student_17', 'Student_18', 'Student_19', 'Student_20', 'Student_21', 'Student_22', 'Student_23', 'Student_24', 'Student_25', 'Student_26', 'Student_27', 'Student_28', 'Student_29', 'Student_30', 'Student_31', 'Student_32', 'Student_33', 'Student_34', 'Student_35', 'Student_36', 'Student_37', 'Student_38', 'Student_39', 'Student_40', 'Student_41', 'Student_42', 'Student_43', 'Student_44', 'Student_45', 'Student_46', 'Student_47', 'Student_48', 'Student_49', 'Student_50']\n"
          ]
        }
      ]
    },
    {
      "cell_type": "code",
      "source": [
        "random.seed(3)\n",
        "birth_year=[]\n",
        "for x in range(50):\n",
        "  birth_year.append(random.randint(1988,2002))\n",
        "print(birth_year)"
      ],
      "metadata": {
        "colab": {
          "base_uri": "https://localhost:8080/"
        },
        "id": "IrK8W3rzrL7c",
        "outputId": "0cc30c8f-bb80-4234-d83b-ff47cfcad20c"
      },
      "execution_count": 12,
      "outputs": [
        {
          "output_type": "stream",
          "name": "stdout",
          "text": [
            "[1991, 1997, 1996, 1990, 1993, 2002, 1997, 1995, 1998, 1997, 1989, 1997, 1988, 2002, 2001, 1995, 1992, 1996, 1991, 1991, 1999, 1995, 1996, 2001, 1996, 1995, 1994, 1998, 2001, 1990, 1991, 1998, 1990, 2001, 2002, 1996, 1994, 1999, 1988, 1998, 2000, 1989, 1990, 2000, 1997, 1988, 1992, 2000, 1988, 2001]\n"
          ]
        }
      ]
    },
    {
      "cell_type": "code",
      "source": [
        "b2=[]\n",
        "for i in range(50):\n",
        "  b2.append(random.randrange(1988,2002))\n",
        "print(b2)"
      ],
      "metadata": {
        "colab": {
          "base_uri": "https://localhost:8080/"
        },
        "id": "nM6MAlMqtr8U",
        "outputId": "5ec0b4a4-c017-4099-b74e-3752d529b930"
      },
      "execution_count": 13,
      "outputs": [
        {
          "output_type": "stream",
          "name": "stdout",
          "text": [
            "[2001, 1992, 1995, 1997, 1999, 1994, 1999, 2000, 1994, 1994, 1999, 2000, 1997, 1995, 1990, 1993, 1989, 1988, 1990, 1995, 1991, 1992, 1998, 1994, 2000, 1998, 2001, 1992, 1994, 1996, 2001, 1994, 1997, 1993, 1996, 1997, 1994, 1997, 1991, 1993, 1998, 1988, 2001, 1992, 1997, 1998, 1999, 1990, 1999, 2001]\n"
          ]
        }
      ]
    },
    {
      "cell_type": "code",
      "source": [
        "student_attitude= []\n",
        "\n",
        "num=0\n",
        "while num<50:\n",
        "  student_attitude.append(random.choice([\"Positive\",\"Neutral\",\"Negative\"]))\n",
        "  num+=1\n",
        "print(student_attitude)\n",
        "print(len(student_attitude))"
      ],
      "metadata": {
        "colab": {
          "base_uri": "https://localhost:8080/"
        },
        "id": "CmzQSUXEukjY",
        "outputId": "39dd89cc-86a8-4a4b-877e-de9f12ff4c3c"
      },
      "execution_count": 15,
      "outputs": [
        {
          "output_type": "stream",
          "name": "stdout",
          "text": [
            "['Neutral', 'Negative', 'Negative', 'Negative', 'Positive', 'Negative', 'Negative', 'Positive', 'Negative', 'Negative', 'Neutral', 'Neutral', 'Positive', 'Positive', 'Neutral', 'Negative', 'Neutral', 'Positive', 'Neutral', 'Positive', 'Neutral', 'Positive', 'Positive', 'Neutral', 'Neutral', 'Neutral', 'Positive', 'Positive', 'Negative', 'Negative', 'Positive', 'Neutral', 'Negative', 'Negative', 'Neutral', 'Negative', 'Neutral', 'Negative', 'Positive', 'Positive', 'Neutral', 'Positive', 'Positive', 'Positive', 'Negative', 'Negative', 'Positive', 'Positive', 'Neutral', 'Neutral']\n",
            "50\n"
          ]
        }
      ]
    },
    {
      "cell_type": "code",
      "source": [
        "import numpy as np\n",
        "x=np.arange(50)\n",
        "print(x)"
      ],
      "metadata": {
        "colab": {
          "base_uri": "https://localhost:8080/"
        },
        "id": "ccPhYlvGwGwY",
        "outputId": "ab23b565-cc12-4107-bd7a-6d79d695b21b"
      },
      "execution_count": 16,
      "outputs": [
        {
          "output_type": "stream",
          "name": "stdout",
          "text": [
            "[ 0  1  2  3  4  5  6  7  8  9 10 11 12 13 14 15 16 17 18 19 20 21 22 23\n",
            " 24 25 26 27 28 29 30 31 32 33 34 35 36 37 38 39 40 41 42 43 44 45 46 47\n",
            " 48 49]\n"
          ]
        }
      ]
    },
    {
      "cell_type": "code",
      "source": [
        "student_scores=[]\n",
        "for score in range(100):\n",
        "  "
      ],
      "metadata": {
        "id": "xlYoGPp_xefC"
      },
      "execution_count": null,
      "outputs": []
    }
  ]
}